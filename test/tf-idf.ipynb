{
 "cells": [
  {
   "attachments": {
    "image.png": {
     "image/png": "[encoded data removed]"
    }
   },
   "cell_type": "markdown",
   "metadata": {},
   "source": [
    "# TF - IDF Scores\n",
    " **Tf-Idf** or **Term frequency - Inverse document frequency** score's evaluate how relevant a word is to a document in a collection of documents\n",
    " \n",
    " ![image.png](attachment:image.png)\n",
    " \n",
    "* **Term Frequecy** = how many times a word appears in a Document \n",
    "* **Inverse Document Frequency** = We obtain this by dividing the number of documents that contain a word by the total number of documents and calculating the logarithm. This metric approaches 0 for words commonly appearing in documents, and 1 for words rarely appearing in documents.\n"
   ]
  },
  {
   "cell_type": "markdown",
   "metadata": {},
   "source": [
    "### Importing necessary libraries"
   ]
  },
  {
   "cell_type": "code",
   "execution_count": 63,
   "metadata": {},
   "outputs": [],
   "source": [
    "import math"
   ]
  },
  {
   "cell_type": "markdown",
   "metadata": {},
   "source": [
    "### Function to compute Term Frequency"
   ]
  },
  {
   "cell_type": "code",
   "execution_count": 64,
   "metadata": {},
   "outputs": [],
   "source": [
    "def computeTF(wordDict):\n",
    "        tfDict = {}\n",
    "        wordcount=0\n",
    "        for key,val in wordDict.items():\n",
    "        \twordcount+=val\n",
    "        for key,val in wordDict.items():\n",
    "                tfDict[key] = val/float(wordcount)\n",
    "        return tfDict"
   ]
  },
  {
   "cell_type": "markdown",
   "metadata": {},
   "source": [
    "### Function to compute Inverse Document Frequency"
   ]
  },
  {
   "cell_type": "code",
   "execution_count": 65,
   "metadata": {},
   "outputs": [],
   "source": [
    "def computeIDF(docList):\n",
    "    idfDict = {}\n",
    "    N = len(docList)\n",
    "    idfDict = dict.fromkeys(docList[0].keys(), 0)\n",
    "    for doc in docList:\n",
    "            for word, val in doc.items():\n",
    "                if val>0:\n",
    "                    idfDict[word] += 1\n",
    "    for word, val in idfDict.items():\n",
    "        idfDict[word] = math.log10(N / float(val))\n",
    "    return idfDict"
   ]
  },
  {
   "cell_type": "markdown",
   "metadata": {},
   "source": [
    "### Function to compute  Tf-Idf Matrix"
   ]
  },
  {
   "cell_type": "code",
   "execution_count": 66,
   "metadata": {},
   "outputs": [],
   "source": [
    "def computeTFIDF(tfs, idfs):\n",
    "    tfidf = {}\n",
    "    for word,val in tfs.items():\n",
    "        tfidf[word] = val*idfs[word]\n",
    "    return tfidf"
   ]
  },
  {
   "cell_type": "markdown",
   "metadata": {},
   "source": [
    "### Sample Data"
   ]
  },
  {
   "cell_type": "code",
   "execution_count": 71,
   "metadata": {},
   "outputs": [],
   "source": [
    "s1_text=\"A mathematician found a solution to the problem\"\n",
    "s2_text=\"The problem was solved by a young mathematician\"\n",
    "s1_dict={}\n",
    "s2_dict={}\n",
    "distinct=[] #(distinct words in corpus)"
   ]
  },
  {
   "cell_type": "markdown",
   "metadata": {},
   "source": [
    "### Preprocessing"
   ]
  },
  {
   "cell_type": "code",
   "execution_count": 72,
   "metadata": {},
   "outputs": [
    {
     "name": "stdout",
     "output_type": "stream",
     "text": [
      "Dictionary for DOC1\n",
      "{'A': 1, 'mathematician': 1, 'found': 1, 'a': 1, 'solution': 1, 'to': 1, 'the': 1, 'problem': 1, 'The': 0, 'was': 0, 'solved': 0, 'by': 0, 'young': 0}\n",
      "Dictionary for DOC2\n",
      "{'A': 0, 'mathematician': 1, 'found': 0, 'a': 1, 'solution': 0, 'to': 0, 'the': 0, 'problem': 1, 'The': 1, 'was': 1, 'solved': 1, 'by': 1, 'young': 1}\n",
      "TF for DOC1\n",
      "{'A': 0.125, 'mathematician': 0.125, 'found': 0.125, 'a': 0.125, 'solution': 0.125, 'to': 0.125, 'the': 0.125, 'problem': 0.125, 'The': 0.0, 'was': 0.0, 'solved': 0.0, 'by': 0.0, 'young': 0.0}\n",
      "TF for DOC2\n",
      "{'A': 0.0, 'mathematician': 0.125, 'found': 0.0, 'a': 0.125, 'solution': 0.0, 'to': 0.0, 'the': 0.0, 'problem': 0.125, 'The': 0.125, 'was': 0.125, 'solved': 0.125, 'by': 0.125, 'young': 0.125}\n",
      "IDF in General\n",
      "{'A': 0.3010299956639812, 'mathematician': 0.0, 'found': 0.3010299956639812, 'a': 0.0, 'solution': 0.3010299956639812, 'to': 0.3010299956639812, 'the': 0.3010299956639812, 'problem': 0.0, 'The': 0.3010299956639812, 'was': 0.3010299956639812, 'solved': 0.3010299956639812, 'by': 0.3010299956639812, 'young': 0.3010299956639812}\n"
     ]
    }
   ],
   "source": [
    "#Splitting Sentences to Words\n",
    "s1=s1_text.split(\" \")\n",
    "s2=s2_text.split(\" \")\n",
    "\n",
    "#Build Term Frequency Vectors\n",
    "for i in s1:\n",
    "    if(i not in distinct):\n",
    "        s1_dict[i]=0\n",
    "        s2_dict[i]=0\n",
    "        distinct.append(i)\n",
    "    s1_dict[i]+=1\n",
    "for i in s2:\n",
    "    if(i not in distinct):\n",
    "        s1_dict[i]=0\n",
    "        s2_dict[i]=0\n",
    "        distinct.append(i)\n",
    "    s2_dict[i]+=1\n",
    "print(\"Dictionary for DOC1\")\n",
    "print(s1_dict)\n",
    "print(\"Dictionary for DOC2\")\n",
    "print(s2_dict)\n",
    "print(\"TF for DOC1\")\n",
    "print(computeTF(s1_dict))\n",
    "print(\"TF for DOC2\")\n",
    "print(computeTF(s2_dict))\n",
    "\n",
    "#Build Inverse Document Frequency Vector\n",
    "doc_list=[s1_dict,s2_dict]\n",
    "print(\"IDF in General\")\n",
    "print(computeIDF(doc_list))"
   ]
  },
  {
   "cell_type": "markdown",
   "metadata": {},
   "source": [
    "### Build Tf-Idf matrix"
   ]
  },
  {
   "cell_type": "code",
   "execution_count": 73,
   "metadata": {},
   "outputs": [
    {
     "name": "stdout",
     "output_type": "stream",
     "text": [
      "[0.03762874945799765, 0.0]\n",
      "[0.0, 0.0]\n",
      "[0.03762874945799765, 0.0]\n",
      "[0.0, 0.0]\n",
      "[0.03762874945799765, 0.0]\n",
      "[0.03762874945799765, 0.0]\n",
      "[0.03762874945799765, 0.0]\n",
      "[0.0, 0.0]\n",
      "[0.0, 0.03762874945799765]\n",
      "[0.0, 0.03762874945799765]\n",
      "[0.0, 0.03762874945799765]\n",
      "[0.0, 0.03762874945799765]\n",
      "[0.0, 0.03762874945799765]\n"
     ]
    }
   ],
   "source": [
    "tf_idf_vector=[]\n",
    "for i in range(len(distinct)):\n",
    "    temp=[0,0]\n",
    "    tf_idf_vector.append(temp)\n",
    "j=0\n",
    "for doc in doc_list:\n",
    "    temp_dict=computeTFIDF(computeTF(doc),computeIDF(doc_list))\n",
    "    for i in range(len(distinct)):\n",
    "        tf_idf_vector[i][j]=temp_dict[distinct[i]]\n",
    "    j+=1\n",
    "for i in tf_idf_vector:\n",
    "    print(i)"
   ]
  }
 ],
 "metadata": {
  "kernelspec": {
   "display_name": "Python 3",
   "language": "python",
   "name": "python3"
  },
  "language_info": {
   "codemirror_mode": {
    "name": "ipython",
    "version": 3
   },
   "file_extension": ".py",
   "mimetype": "text/x-python",
   "name": "python",
   "nbconvert_exporter": "python",
   "pygments_lexer": "ipython3",
   "version": "3.8.3"
  }
 },
 "nbformat": 4,
 "nbformat_minor": 4
}
